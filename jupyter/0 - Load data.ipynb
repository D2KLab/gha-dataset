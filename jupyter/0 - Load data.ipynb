{
 "cells": [
  {
   "cell_type": "markdown",
   "id": "ca754b9d-fa55-4189-bfdc-b3eb580380bd",
   "metadata": {},
   "source": [
    "# 0 - Load data\n",
    "\n",
    "This notebook helps to load data from gzipped JSON lines files into MongoDB."
   ]
  },
  {
   "cell_type": "code",
   "execution_count": 1,
   "id": "1871e86b-e11b-4d76-b27f-fcc3ee03e6b5",
   "metadata": {},
   "outputs": [],
   "source": [
    "import gzip\n",
    "import json\n",
    "import pymongo\n",
    "from tqdm.notebook import tqdm"
   ]
  },
  {
   "cell_type": "code",
   "execution_count": 2,
   "id": "178fa2b5-a489-4ce4-a9f9-f21e94fa1200",
   "metadata": {},
   "outputs": [],
   "source": [
    "mongo_client = pymongo.MongoClient(\n",
    "    host=\"127.0.0.1\",\n",
    "    port=27017,\n",
    ")\n",
    "mongo_repositories = mongo_client[\"gha-scraper\"][\"repositories\"]\n",
    "mongo_runs         = mongo_client[\"gha-scraper\"][\"runs\"]"
   ]
  },
  {
   "cell_type": "markdown",
   "id": "caa92fd9-307d-4dec-8187-d67ba9a01b8a",
   "metadata": {},
   "source": [
    "### Restore JSONs to MongoDB"
   ]
  },
  {
   "cell_type": "code",
   "execution_count": null,
   "id": "90af5d5d-2c15-4928-af04-170ab228feef",
   "metadata": {},
   "outputs": [],
   "source": [
    "with gzip.open(\"repositories.json.gz\", \"rt\") as fd:\n",
    "    for line in tqdm(fd):\n",
    "        mongo_repositories.insert_one(json.loads(fd.read()))\n",
    "\n",
    "with gzip.open(\"runs.json.gz\", \"rt\") as fd:\n",
    "    for line in tqdm(fd):\n",
    "        mongo_runs.insert_one(json.loads(fd.read()))"
   ]
  },
  {
   "cell_type": "code",
   "execution_count": null,
   "id": "2fffcc49-b27c-4e9a-8052-f08619d1965c",
   "metadata": {},
   "outputs": [],
   "source": [
    "mongo_repositories.create_index(\"selected\")\n",
    "mongo_runs.create_index(\"repository_name\")\n",
    "mongo_runs.create_index(\"log_insights\")\n",
    "mongo_runs.create_index(\"logs_archive\")\n",
    "mongo_runs.create_index([\"repository_name\", \"workflow_path\"])"
   ]
  },
  {
   "cell_type": "markdown",
   "id": "95a93940-892c-4d39-8b2b-08d74391d335",
   "metadata": {},
   "source": [
    "### Backup MongoDB to JSONs"
   ]
  },
  {
   "cell_type": "code",
   "execution_count": 3,
   "id": "119d9373-8512-4f81-886c-6d4c83493f0e",
   "metadata": {},
   "outputs": [
    {
     "data": {
      "application/vnd.jupyter.widget-view+json": {
       "model_id": "934d0572359b40c6aed1f5c17d3df409",
       "version_major": 2,
       "version_minor": 0
      },
      "text/plain": [
       "0it [00:00, ?it/s]"
      ]
     },
     "metadata": {},
     "output_type": "display_data"
    },
    {
     "data": {
      "application/vnd.jupyter.widget-view+json": {
       "model_id": "ef23b2f7bca04758840c71f0adcd0fb9",
       "version_major": 2,
       "version_minor": 0
      },
      "text/plain": [
       "0it [00:00, ?it/s]"
      ]
     },
     "metadata": {},
     "output_type": "display_data"
    }
   ],
   "source": [
    "with gzip.open(\"repositories.json.gz\", \"wt\") as fd:\n",
    "    for repository in tqdm(mongo_repositories.find()):\n",
    "        fd.write(json.dumps(repository, default=str) + \"\\n\")\n",
    "\n",
    "with gzip.open(\"runs.json.gz\", \"wt\") as fd:\n",
    "    for run in tqdm(mongo_runs.find()):\n",
    "        fd.write(json.dumps(run, default=str) + \"\\n\")"
   ]
  },
  {
   "cell_type": "code",
   "execution_count": null,
   "id": "279e3da8-a132-41b2-8497-671a2693cb64",
   "metadata": {},
   "outputs": [],
   "source": []
  }
 ],
 "metadata": {
  "kernelspec": {
   "display_name": "Python 3 (ipykernel)",
   "language": "python",
   "name": "python3"
  },
  "language_info": {
   "codemirror_mode": {
    "name": "ipython",
    "version": 3
   },
   "file_extension": ".py",
   "mimetype": "text/x-python",
   "name": "python",
   "nbconvert_exporter": "python",
   "pygments_lexer": "ipython3",
   "version": "3.8.10"
  }
 },
 "nbformat": 4,
 "nbformat_minor": 5
}
