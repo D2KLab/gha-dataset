{
 "cells": [
  {
   "cell_type": "markdown",
   "id": "267238c9-227a-44a3-ae4c-9e25130126af",
   "metadata": {},
   "source": [
    "# 1 - Dataset metrics\n",
    "\n",
    "This Jupyter notebook shows various dataset metrics presented in the paper."
   ]
  },
  {
   "cell_type": "code",
   "execution_count": 1,
   "id": "4cb1e5d1-2710-460f-9754-10e80b9cf063",
   "metadata": {},
   "outputs": [],
   "source": [
    "import gzip\n",
    "import json\n",
    "import pymongo\n",
    "import numpy as np\n",
    "import scipy as sp\n",
    "import matplotlib.pyplot as plt\n",
    "from collections import Counter, defaultdict\n",
    "from tqdm.notebook import tqdm"
   ]
  },
  {
   "cell_type": "code",
   "execution_count": 2,
   "id": "eeb602fb-4800-4de5-9ae8-e74f7e8ef44e",
   "metadata": {},
   "outputs": [],
   "source": [
    "mongo_client = pymongo.MongoClient(\n",
    "    host=\"127.0.0.1\",\n",
    "    port=27017,\n",
    ")\n",
    "mongo_repositories = mongo_client[\"gha-scraper\"][\"repositories\"]\n",
    "mongo_runs         = mongo_client[\"gha-scraper\"][\"runs\"]"
   ]
  },
  {
   "cell_type": "code",
   "execution_count": 3,
   "id": "82c575f0-d23f-4095-ac66-92b352495590",
   "metadata": {},
   "outputs": [],
   "source": [
    "# Helper functions\n",
    "def get_class_ratios(elements):\n",
    "    n = len(elements)\n",
    "    for v, c in sorted(Counter(elements).items(), reverse=True, key=lambda x: x[1]):\n",
    "        pct = round(100*c/n, 2)\n",
    "        print(f\"{c}/{n} ({pct}%) {v}\")"
   ]
  },
  {
   "cell_type": "code",
   "execution_count": 4,
   "id": "6d7fb6d5-136a-412b-82a0-77ca84f0d88a",
   "metadata": {},
   "outputs": [],
   "source": [
    "# Get various stats\n",
    "languages_repos = list(\n",
    "    mongo_repositories.aggregate([\n",
    "        {'$match': {'selected': True}},\n",
    "        { \"$group\": { '_id': \"$repo.mainLanguage\", 'nb_repositories': {'$sum': 1}}}\n",
    "    ])\n",
    ")\n",
    "\n",
    "languages_runs = list(\n",
    "    mongo_repositories.aggregate([\n",
    "        {'$match': {'selected': True}},\n",
    "        {\n",
    "          \"$lookup\":\n",
    "             {\n",
    "                'from': \"runs\",\n",
    "                'localField': \"_id\",\n",
    "                'foreignField': \"repository_name\",\n",
    "                'as': \"runs\"\n",
    "             }\n",
    "        },\n",
    "        {'$unwind': '$runs'},\n",
    "        {'$match': {'runs.log_insights': {'$exists': True, '$ne': []}}},\n",
    "        {\n",
    "            '$group': {\n",
    "                '_id': '$repo.mainLanguage',\n",
    "                'nb_runs': {'$sum': 1},\n",
    "            }\n",
    "        }\n",
    "    ])\n",
    ")\n",
    "\n",
    "languages_workflows = list(\n",
    "    mongo_repositories.aggregate([\n",
    "        {'$match': {'selected': True}},\n",
    "        {\n",
    "          \"$lookup\":\n",
    "             {\n",
    "                'from': \"runs\",\n",
    "                'localField': \"_id\",\n",
    "                'foreignField': \"repository_name\",\n",
    "                'as': \"runs\"\n",
    "             }\n",
    "        },\n",
    "        {'$unwind': '$runs'},\n",
    "        {'$match': {'runs.log_insights': {'$exists': True, '$ne': []}}},\n",
    "        {\n",
    "            '$group': {\n",
    "                '_id': {'mainLanguage': '$repo.mainLanguage', 'repository_name': '$runs.repository_name', 'workflow_path': '$runs.workflow_path'}              \n",
    "            }\n",
    "        },\n",
    "        {\n",
    "            '$group': {\n",
    "                '_id': '$_id.mainLanguage',\n",
    "                'nb_workflows': {'$sum': 1},\n",
    "            }\n",
    "        },\n",
    "    ])\n",
    ")"
   ]
  },
  {
   "cell_type": "code",
   "execution_count": 5,
   "id": "49126bb7-9b93-469d-9bcd-06aac6be5d38",
   "metadata": {},
   "outputs": [
    {
     "name": "stdout",
     "output_type": "stream",
     "text": [
      "Python & 5.52k (19.5\\%) & 22.34k (19.21\\%) & 97.31k (18.95\\%) \\\\\n",
      "TypeScript & 4.44k (15.66\\%) & 18.9k (16.25\\%) & 84.19k (16.4\\%) \\\\\n",
      "Go & 2.95k (10.41\\%) & 15.77k (13.56\\%) & 70.38k (13.71\\%) \\\\\n",
      "JavaScript & 2.78k (9.8\\%) & 9.78k (8.41\\%) & 44.2k (8.61\\%) \\\\\n",
      "C++ & 2.14k (7.55\\%) & 9.22k (7.93\\%) & 40.98k (7.98\\%) \\\\\n",
      "Java & 2.07k (7.32\\%) & 8.34k (7.17\\%) & 36.66k (7.14\\%) \\\\\n",
      "Rust & 2.02k (7.14\\%) & 7.97k (6.86\\%) & 34.9k (6.8\\%) \\\\\n",
      "C & 1.25k (4.41\\%) & 5.17k (4.45\\%) & 23.3k (4.54\\%) \\\\\n",
      "PHP & 1.2k (4.22\\%) & 4.56k (3.92\\%) & 20.12k (3.92\\%) \\\\\n",
      "C# & 1.1k (3.88\\%) & 3.79k (3.26\\%) & 15.88k (3.09\\%) \\\\\n",
      "Shell & 735 (2.6\\%) & 2.71k (2.33\\%) & 11.95k (2.33\\%) \\\\\n",
      "Ruby & 639 (2.26\\%) & 2.3k (1.98\\%) & 10.45k (2.04\\%) \\\\\n",
      "Kotlin & 634 (2.24\\%) & 2.27k (1.95\\%) & 9.72k (1.89\\%) \\\\\n",
      "Dart & 319 (1.13\\%) & 1.38k (1.18\\%) & 5.93k (1.15\\%) \\\\\n",
      "Swift & 250 (0.88\\%) & 250 (0.69\\%) & 3.29k (0.64\\%) \\\\\n",
      "Elixir & 126 (0.44\\%) & 126 (0.3\\%) & 1.56k (0.3\\%) \\\\\n",
      "Objective-C & 60 (0.21\\%) & 60 (0.24\\%) & 1.21k (0.24\\%) \\\\\n",
      "Nix & 56 (0.2\\%) & 56 (0.15\\%) & 56 (0.15\\%) \\\\\n",
      "Groovy & 36 (0.13\\%) & 36 (0.12\\%) & 36 (0.12\\%) \\\\\n",
      "Smalltalk & 6 (0.02\\%) & 6 (0.01\\%) & 6 (0.01\\%) \\\\\n",
      "Total & 28.322k & 116.259k & 513.492k \\\\\n"
     ]
    }
   ],
   "source": [
    "# Print to Latex table\n",
    "total_repos = sum([x[\"nb_repositories\"] for x in languages_repos])\n",
    "total_runs = sum([x[\"nb_runs\"] for x in languages_runs])\n",
    "total_workflows = sum([x[\"nb_workflows\"] for x in languages_workflows])\n",
    "\n",
    "languages_repos = sorted(languages_repos, key=lambda x: x[\"nb_repositories\"], reverse=True)\n",
    "languages_runs_dict = {\n",
    "    x[\"_id\"]: x[\"nb_runs\"] for x in languages_runs\n",
    "}\n",
    "languages_workflows_dict = {\n",
    "    x[\"_id\"]: x[\"nb_workflows\"] for x in languages_workflows\n",
    "}\n",
    "for doc in languages_repos:\n",
    "    language = doc['_id']\n",
    "    nb_repositories = doc['nb_repositories']\n",
    "\n",
    "    nb_runs = languages_runs_dict[language]\n",
    "    nb_workflows = languages_workflows_dict[language]\n",
    "\n",
    "    pct_repo = round(100*nb_repositories/total_repos, 2)\n",
    "    pct_runs = round(100*nb_runs/total_runs, 2)\n",
    "    pct_workflows = round(100*nb_workflows/total_workflows, 2)\n",
    "\n",
    "    # Sorry for the uglyx formatting... Next we will use pandas.DataFrame.to_latex() ;)\n",
    "    print(f\"{language} & {str(round(nb_repositories/1000, 2)) + 'k' if nb_repositories>1000 else nb_repositories} ({pct_repo}\\\\%) & \"\n",
    "          f\"{str(round(nb_workflows/1000, 2)) + 'k' if nb_workflows>1000 else nb_repositories} ({pct_workflows}\\\\%) & \" +\n",
    "          f\"{str(round(nb_runs/1000, 2)) + 'k' if nb_runs>1000 else nb_repositories} ({pct_runs}\\\\%) \\\\\\\\\")\n",
    "\n",
    "print(f\"Total & {round(total_repos/1000, 3)}k & {round(total_workflows/1000, 3)}k & {round(total_runs/1000, 3)}k \\\\\\\\\")"
   ]
  },
  {
   "cell_type": "code",
   "execution_count": 6,
   "id": "21615b70-c212-4644-a7c9-a1d268d115b6",
   "metadata": {},
   "outputs": [
    {
     "data": {
      "application/vnd.jupyter.widget-view+json": {
       "model_id": "68c5c179b4e943fc81e22829de3e53cc",
       "version_major": 2,
       "version_minor": 0
      },
      "text/plain": [
       "0it [00:00, ?it/s]"
      ]
     },
     "metadata": {},
     "output_type": "display_data"
    },
    {
     "name": "stdout",
     "output_type": "stream",
     "text": [
      "6033548/6256046 (96.44%) Success\n",
      "205807/6256046 (3.29%) Parser exception\n",
      "16691/6256046 (0.27%) Invalid request\n"
     ]
    }
   ],
   "source": [
    "# Log parsing stats\n",
    "parsing_errors = []\n",
    "for run in tqdm(mongo_runs.find({\"log_insights\": {\"$exists\": True, \"$ne\": []}})):\n",
    "    for job in run[\"log_insights\"]:\n",
    "        for step in job.get(\"steps\", []):\n",
    "            if step[\"type\"] == \"shell\":\n",
    "                if step.get(\"error\"):\n",
    "                    parsing_errors.append(step[\"error\"][\"error\"])\n",
    "                else:\n",
    "                    parsing_errors.append(\"Success\")\n",
    "get_class_ratios(parsing_errors)"
   ]
  },
  {
   "cell_type": "code",
   "execution_count": 7,
   "id": "e52ec9fc-fc56-4fdb-8bea-a43b09d91a63",
   "metadata": {},
   "outputs": [
    {
     "data": {
      "application/vnd.jupyter.widget-view+json": {
       "model_id": "",
       "version_major": 2,
       "version_minor": 0
      },
      "text/plain": [
       "0it [00:00, ?it/s]"
      ]
     },
     "metadata": {},
     "output_type": "display_data"
    },
    {
     "name": "stdout",
     "output_type": "stream",
     "text": [
      "36653/50846 (72.09%) More than 90d old\n",
      "8987/50846 (17.67%) Got HTTP 410\n",
      "4041/50846 (7.95%) Got HTTP 404\n",
      "636/50846 (1.25%) unexpected end of data\n",
      "414/50846 (0.81%) Got HTTP 403\n",
      "51/50846 (0.1%) File name too long\n",
      "38/50846 (0.07%) cannot access local variable 'req' where it is not associated with a value\n",
      "17/50846 (0.03%) Logs archive is too big\n",
      "4/50846 (0.01%) Fail after 5 attempts (HTTP 403)\n",
      "4/50846 (0.01%) Fail after 5 attempts (HTTP 500)\n",
      "1/50846 (0.0%) Fail after 5 attempts (HTTP 502)\n"
     ]
    }
   ],
   "source": [
    "# Log download errors\n",
    "log_download_errors = []\n",
    "for run in tqdm(mongo_runs.find({\"logs_archive.error\": {\"$exists\": True}}), leave=False):\n",
    "    error = run[\"logs_archive\"][\"error\"]\n",
    "    if \"File name too long\" in error:\n",
    "        error = \"File name too long\"  # Remove path from error message\n",
    "    log_download_errors.append(error)\n",
    "get_class_ratios(log_download_errors)"
   ]
  },
  {
   "cell_type": "code",
   "execution_count": 8,
   "id": "d8a7c028-e6a8-4157-8c5b-9ad61010ccb7",
   "metadata": {},
   "outputs": [
    {
     "data": {
      "image/png": "[encoded data removed]",
      "text/plain": [
       "<Figure size 640x480 with 1 Axes>"
      ]
     },
     "metadata": {},
     "output_type": "display_data"
    }
   ],
   "source": [
    "# CDF number of runs over 90d\n",
    "total_runs = [doc[\"total_runs_90d\"] for doc in mongo_repositories.find({\"total_runs_90d\": {\"$gte\": 0}}, projection={\"total_runs_90d\": True})]\n",
    "\n",
    "N = len(total_runs)\n",
    "X = np.sort(total_runs)\n",
    "Y = np.array(range(N))/float(N)\n",
    "\n",
    "plt.plot(X, Y)\n",
    "plt.ylabel(\"CDF\")\n",
    "plt.xlabel(\"Number of runs over 90 days\")\n",
    "plt.ylim(0.6, 1)\n",
    "plt.xscale(\"log\")\n",
    "plt.grid(True)\n",
    "# plt.savefig(\"cdf_repos.png\")\n",
    "plt.show()"
   ]
  },
  {
   "cell_type": "code",
   "execution_count": 12,
   "id": "d2749860-f6a0-4079-b0b1-7908c565b27f",
   "metadata": {},
   "outputs": [
    {
     "data": {
      "application/vnd.jupyter.widget-view+json": {
       "model_id": "25e92898839c4a9fa7c404c8fef23c33",
       "version_major": 2,
       "version_minor": 0
      },
      "text/plain": [
       "0it [00:00, ?it/s]"
      ]
     },
     "metadata": {},
     "output_type": "display_data"
    },
    {
     "name": "stdout",
     "output_type": "stream",
     "text": [
      "71% of commands have annotations\n"
     ]
    }
   ],
   "source": [
    "# Percentage of commands with at least one annotation\n",
    "commands_with_annotations = 0\n",
    "commands_total = 0\n",
    "for run in tqdm(mongo_runs.find({\"log_insights\": {\"$exists\": True, \"$ne\": []}})):\n",
    "    for job in run[\"log_insights\"]:\n",
    "        for step in job.get(\"steps\", []):\n",
    "             if step[\"type\"] == \"shell\":\n",
    "                 for command in step.get(\"commands\", []):\n",
    "                     commands_total += 1\n",
    "                     if command.get(\"annotations\", []):\n",
    "                         commands_with_annotations += 1\n",
    "print(f\"{round(100*commands_with_annotations/commands_total)}% of commands have annotations\")"
   ]
  },
  {
   "cell_type": "code",
   "execution_count": null,
   "id": "50675c87-2cc6-4b13-9039-bc07bf8eb193",
   "metadata": {},
   "outputs": [],
   "source": []
  }
 ],
 "metadata": {
  "kernelspec": {
   "display_name": "Python 3 (ipykernel)",
   "language": "python",
   "name": "python3"
  },
  "language_info": {
   "codemirror_mode": {
    "name": "ipython",
    "version": 3
   },
   "file_extension": ".py",
   "mimetype": "text/x-python",
   "name": "python",
   "nbconvert_exporter": "python",
   "pygments_lexer": "ipython3",
   "version": "3.8.10"
  }
 },
 "nbformat": 4,
 "nbformat_minor": 5
}
